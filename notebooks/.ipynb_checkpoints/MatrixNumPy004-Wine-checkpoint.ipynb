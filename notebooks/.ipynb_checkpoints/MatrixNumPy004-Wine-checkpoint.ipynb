{
 "cells": [
  {
   "cell_type": "code",
   "execution_count": 1,
   "metadata": {},
   "outputs": [],
   "source": [
    "import numpy as np\n",
    "import json\n",
    "import matplotlib.pyplot as plt\n",
    "from sklearn.model_selection import train_test_split"
   ]
  },
  {
   "cell_type": "code",
   "execution_count": 4,
   "metadata": {},
   "outputs": [
    {
     "name": "stdout",
     "output_type": "stream",
     "text": [
      "13\n",
      "3\n"
     ]
    }
   ],
   "source": [
    "with open(\"../datasets/wine/wine_train.json\") as json_data:\n",
    "    dataset = json.load(json_data)\n",
    "\n",
    "X = np.asarray(dataset[\"attribs\"])\n",
    "y = np.asarray(dataset[\"target_hot\"])\n",
    "n_inputs = len(X[0]) \n",
    "n_outputs = len(y[0]) \n",
    "print(n_inputs)\n",
    "print(n_outputs)\n",
    "hidden_layer_neurons = 8\n"
   ]
  },
  {
   "cell_type": "code",
   "execution_count": 5,
   "metadata": {},
   "outputs": [
    {
     "name": "stdout",
     "output_type": "stream",
     "text": [
      "0.008829578778642351\n"
     ]
    },
    {
     "data": {
      "text/plain": [
       "[<matplotlib.lines.Line2D at 0x7f166fc93470>]"
      ]
     },
     "execution_count": 5,
     "metadata": {},
     "output_type": "execute_result"
    },
    {
     "data": {
      "image/png": "[encoded data removed]",
      "text/plain": [
       "<Figure size 432x288 with 1 Axes>"
      ]
     },
     "metadata": {
      "needs_background": "light"
     },
     "output_type": "display_data"
    }
   ],
   "source": [
    "w1 = 2*np.random.random((n_inputs, hidden_layer_neurons)) - 1\n",
    "wo = 2*np.random.random((hidden_layer_neurons,n_outputs)) - 1\n",
    "b1 = 2*np.random.random((hidden_layer_neurons)) - 1\n",
    "b2 = 2*np.random.random((n_outputs)) - 1\n",
    "\n",
    "ers=[]\n",
    "for _ in range (10000):\n",
    "    l1 = 1/(1 + np.exp(-(np.dot(X,w1)+b1)))\n",
    "    ot = 1/(1 + np.exp(-(np.dot(l1,wo)+b2)))\n",
    "    d_o1 = (y - ot)*(ot * (1-ot))\n",
    "    d_l1 = np.dot(d_o1,wo.T) * (l1*(1-l1))\n",
    "    wo += np.dot(l1.T,d_o1) * 0.01\n",
    "    b2 += np.sum(d_o1, axis = 0) *0.01\n",
    "    w1 += np.dot(X.T,d_l1) * 0.01\n",
    "    b1 += np.sum(d_l1, axis = 0) *0.01\n",
    "    ers.append((abs(y-ot)).mean())\n",
    "print(ers[-1])\n",
    "plt.plot(ers)"
   ]
  },
  {
   "cell_type": "code",
   "execution_count": 6,
   "metadata": {},
   "outputs": [],
   "source": [
    "with open(\"../datasets/wine/wine_test.json\") as json_data:\n",
    "    dataset = json.load(json_data)\n",
    "\n",
    "X_test = np.asarray(dataset[\"attribs\"])\n",
    "y_test = np.asarray(dataset[\"target_hot\"])"
   ]
  },
  {
   "cell_type": "code",
   "execution_count": 7,
   "metadata": {},
   "outputs": [
    {
     "name": "stdout",
     "output_type": "stream",
     "text": [
      "0.04965434265235907\n",
      "[ True False  True  True  True  True  True  True  True  True  True  True\n",
      "  True False  True  True  True  True  True False  True  True  True  True\n",
      "  True  True  True  True  True  True  True  True  True  True  True  True]\n"
     ]
    }
   ],
   "source": [
    "l1 = 1/(1 + np.exp(-(np.dot(X_test,w1)+b1)))\n",
    "ot = 1/(1 + np.exp(-(np.dot(l1,wo)+b2)))\n",
    "print(((abs(y_test-ot)).mean()))\n",
    "y_pred = np.argmax(ot,axis=1)\n",
    "y_true = np.argmax(y_test, axis=1)\n",
    "print(y_true==y_pred)"
   ]
  },
  {
   "cell_type": "code",
   "execution_count": 8,
   "metadata": {},
   "outputs": [
    {
     "data": {
      "text/plain": [
       "array([[ 0.03092816, -0.34999575,  0.89171913,  0.09841474, -1.6859981 ,\n",
       "        -1.65821273,  2.67024004, -2.35368114],\n",
       "       [-0.11864236, -1.53983312,  0.83556609,  0.78543717,  0.0658482 ,\n",
       "        -0.42097114,  1.77807924, -1.27980908],\n",
       "       [-0.4919664 , -1.66153795,  1.06832805, -1.02814839, -1.84456476,\n",
       "         0.15762101,  4.23449378, -2.93638027],\n",
       "       [ 1.82908635, -1.22549179, -2.61701662,  1.95816197,  1.99656682,\n",
       "        -0.0399437 , -2.39657379,  0.31943621],\n",
       "       [ 0.10851759,  0.2708375 ,  0.5487076 ,  0.77616868,  0.52369931,\n",
       "        -0.84553462,  0.63597684, -0.35529105],\n",
       "       [-0.6472493 ,  0.65922786, -0.37861442,  0.59567015,  0.0832295 ,\n",
       "         0.14686793, -0.47529511,  0.58626759],\n",
       "       [-1.38793533,  5.136614  ,  3.01541496, -1.85950093, -1.64875601,\n",
       "        -0.35394374, -0.75433498,  0.40639209],\n",
       "       [-0.04655895,  0.51493335, -0.05934961, -0.85266583,  0.73154563,\n",
       "        -1.04782649, -0.60706987,  0.81576644],\n",
       "       [-0.13576373,  2.46561701, -0.37804672, -0.33682578,  0.36719739,\n",
       "         0.88843556, -1.06588566,  0.89618707],\n",
       "       [-0.43848316, -3.7916337 , -0.970553  ,  0.42006661,  0.27137081,\n",
       "        -0.58720879,  4.94984284, -3.78972273],\n",
       "       [ 0.09249417,  1.68024339,  0.42968179, -0.5001895 ,  1.24595337,\n",
       "         0.6186861 , -2.98542931,  2.92844743],\n",
       "       [-0.88096016,  1.74213139,  1.61408569, -0.72202699, -1.50803635,\n",
       "        -0.08114318,  0.87739495, -0.34297172],\n",
       "       [-0.17045028, -0.0221709 ,  2.73137222, -0.36640803, -2.25496306,\n",
       "        -0.485736  ,  4.49961503, -2.25890709]])"
      ]
     },
     "execution_count": 8,
     "metadata": {},
     "output_type": "execute_result"
    }
   ],
   "source": [
    "w1"
   ]
  },
  {
   "cell_type": "code",
   "execution_count": 9,
   "metadata": {},
   "outputs": [
    {
     "data": {
      "text/plain": [
       "array([[-2.46506393,  0.70218739,  1.22052633],\n",
       "       [ 2.41431698,  3.88833024, -5.98547802],\n",
       "       [ 5.12196968, -2.92661655, -3.93946094],\n",
       "       [-2.81428582, -0.35372264,  1.61970782],\n",
       "       [-4.85466359,  2.35441609,  1.04727785],\n",
       "       [-1.73351835,  0.94353238, -0.54046236],\n",
       "       [ 5.17805441, -9.02192276,  3.65759117],\n",
       "       [-3.03897267,  5.22683734, -4.46526725]])"
      ]
     },
     "execution_count": 9,
     "metadata": {},
     "output_type": "execute_result"
    }
   ],
   "source": [
    "wo"
   ]
  },
  {
   "cell_type": "code",
   "execution_count": 10,
   "metadata": {},
   "outputs": [
    {
     "data": {
      "text/plain": [
       "array([ 0.62313918,  0.41822688, -3.51809712,  0.27181728,  2.35128102,\n",
       "        0.69694481, -3.93634932,  2.59931069])"
      ]
     },
     "execution_count": 10,
     "metadata": {},
     "output_type": "execute_result"
    }
   ],
   "source": [
    "b1"
   ]
  },
  {
   "cell_type": "code",
   "execution_count": 11,
   "metadata": {},
   "outputs": [
    {
     "data": {
      "text/plain": [
       "array([-2.52885596, -1.1845119 ,  0.88376405])"
      ]
     },
     "execution_count": 11,
     "metadata": {},
     "output_type": "execute_result"
    }
   ],
   "source": [
    "b2"
   ]
  },
  {
   "cell_type": "code",
   "execution_count": null,
   "metadata": {},
   "outputs": [],
   "source": []
  }
 ],
 "metadata": {
  "kernelspec": {
   "display_name": "Python 3",
   "language": "python",
   "name": "python3"
  },
  "language_info": {
   "codemirror_mode": {
    "name": "ipython",
    "version": 3
   },
   "file_extension": ".py",
   "mimetype": "text/x-python",
   "name": "python",
   "nbconvert_exporter": "python",
   "pygments_lexer": "ipython3",
   "version": "3.6.7"
  }
 },
 "nbformat": 4,
 "nbformat_minor": 2
}
