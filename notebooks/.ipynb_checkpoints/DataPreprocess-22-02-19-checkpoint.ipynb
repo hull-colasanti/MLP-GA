{
 "cells": [
  {
   "cell_type": "code",
   "execution_count": 14,
   "metadata": {},
   "outputs": [],
   "source": [
    "import numpy as np\n",
    "import pandas as pd\n",
    "import matplotlib.pyplot as plt\n",
    "import json\n",
    "from pprint import pprint\n",
    "\n",
    "%matplotlib inline"
   ]
  },
  {
   "cell_type": "code",
   "execution_count": 15,
   "metadata": {},
   "outputs": [
    {
     "data": {
      "text/html": [
       "<div>\n",
       "<style scoped>\n",
       "    .dataframe tbody tr th:only-of-type {\n",
       "        vertical-align: middle;\n",
       "    }\n",
       "\n",
       "    .dataframe tbody tr th {\n",
       "        vertical-align: top;\n",
       "    }\n",
       "\n",
       "    .dataframe thead th {\n",
       "        text-align: right;\n",
       "    }\n",
       "</style>\n",
       "<table border=\"1\" class=\"dataframe\">\n",
       "  <thead>\n",
       "    <tr style=\"text-align: right;\">\n",
       "      <th></th>\n",
       "      <th>Cultivator</th>\n",
       "      <th>Alchol</th>\n",
       "      <th>Malic_Acid</th>\n",
       "      <th>Ash</th>\n",
       "      <th>Alcalinity_of_Ash</th>\n",
       "      <th>Magnesium</th>\n",
       "      <th>Total_phenols</th>\n",
       "      <th>Falvanoids</th>\n",
       "      <th>Nonflavanoid_phenols</th>\n",
       "      <th>Proanthocyanins</th>\n",
       "      <th>Color_intensity</th>\n",
       "      <th>Hue</th>\n",
       "      <th>OD280</th>\n",
       "      <th>Proline</th>\n",
       "    </tr>\n",
       "  </thead>\n",
       "  <tbody>\n",
       "    <tr>\n",
       "      <th>0</th>\n",
       "      <td>1</td>\n",
       "      <td>13.28</td>\n",
       "      <td>1.64</td>\n",
       "      <td>2.84</td>\n",
       "      <td>15.5</td>\n",
       "      <td>110</td>\n",
       "      <td>2.60</td>\n",
       "      <td>2.68</td>\n",
       "      <td>0.34</td>\n",
       "      <td>1.36</td>\n",
       "      <td>4.60</td>\n",
       "      <td>1.09</td>\n",
       "      <td>2.78</td>\n",
       "      <td>880</td>\n",
       "    </tr>\n",
       "    <tr>\n",
       "      <th>1</th>\n",
       "      <td>1</td>\n",
       "      <td>13.73</td>\n",
       "      <td>1.50</td>\n",
       "      <td>2.70</td>\n",
       "      <td>22.5</td>\n",
       "      <td>101</td>\n",
       "      <td>3.00</td>\n",
       "      <td>3.25</td>\n",
       "      <td>0.29</td>\n",
       "      <td>2.38</td>\n",
       "      <td>5.70</td>\n",
       "      <td>1.19</td>\n",
       "      <td>2.71</td>\n",
       "      <td>1285</td>\n",
       "    </tr>\n",
       "    <tr>\n",
       "      <th>2</th>\n",
       "      <td>1</td>\n",
       "      <td>13.39</td>\n",
       "      <td>1.77</td>\n",
       "      <td>2.62</td>\n",
       "      <td>16.1</td>\n",
       "      <td>93</td>\n",
       "      <td>2.85</td>\n",
       "      <td>2.94</td>\n",
       "      <td>0.34</td>\n",
       "      <td>1.45</td>\n",
       "      <td>4.80</td>\n",
       "      <td>0.92</td>\n",
       "      <td>3.22</td>\n",
       "      <td>1195</td>\n",
       "    </tr>\n",
       "    <tr>\n",
       "      <th>3</th>\n",
       "      <td>1</td>\n",
       "      <td>13.75</td>\n",
       "      <td>1.73</td>\n",
       "      <td>2.41</td>\n",
       "      <td>16.0</td>\n",
       "      <td>89</td>\n",
       "      <td>2.60</td>\n",
       "      <td>2.76</td>\n",
       "      <td>0.29</td>\n",
       "      <td>1.81</td>\n",
       "      <td>5.60</td>\n",
       "      <td>1.15</td>\n",
       "      <td>2.90</td>\n",
       "      <td>1320</td>\n",
       "    </tr>\n",
       "    <tr>\n",
       "      <th>4</th>\n",
       "      <td>3</td>\n",
       "      <td>13.32</td>\n",
       "      <td>3.24</td>\n",
       "      <td>2.38</td>\n",
       "      <td>21.5</td>\n",
       "      <td>92</td>\n",
       "      <td>1.93</td>\n",
       "      <td>0.76</td>\n",
       "      <td>0.45</td>\n",
       "      <td>1.25</td>\n",
       "      <td>8.42</td>\n",
       "      <td>0.55</td>\n",
       "      <td>1.62</td>\n",
       "      <td>650</td>\n",
       "    </tr>\n",
       "  </tbody>\n",
       "</table>\n",
       "</div>"
      ],
      "text/plain": [
       "   Cultivator  Alchol  Malic_Acid   Ash  Alcalinity_of_Ash  Magnesium  \\\n",
       "0           1   13.28        1.64  2.84               15.5        110   \n",
       "1           1   13.73        1.50  2.70               22.5        101   \n",
       "2           1   13.39        1.77  2.62               16.1         93   \n",
       "3           1   13.75        1.73  2.41               16.0         89   \n",
       "4           3   13.32        3.24  2.38               21.5         92   \n",
       "\n",
       "   Total_phenols  Falvanoids  Nonflavanoid_phenols  Proanthocyanins  \\\n",
       "0           2.60        2.68                  0.34             1.36   \n",
       "1           3.00        3.25                  0.29             2.38   \n",
       "2           2.85        2.94                  0.34             1.45   \n",
       "3           2.60        2.76                  0.29             1.81   \n",
       "4           1.93        0.76                  0.45             1.25   \n",
       "\n",
       "   Color_intensity   Hue  OD280  Proline  \n",
       "0             4.60  1.09   2.78      880  \n",
       "1             5.70  1.19   2.71     1285  \n",
       "2             4.80  0.92   3.22     1195  \n",
       "3             5.60  1.15   2.90     1320  \n",
       "4             8.42  0.55   1.62      650  "
      ]
     },
     "execution_count": 15,
     "metadata": {},
     "output_type": "execute_result"
    }
   ],
   "source": [
    "full_data = pd.read_csv(\"../datasets/wine/wine_train.csv\")\n",
    "#full_data = pd.read_csv(\"datasets/wine/wine_test_7.csv\")\n",
    "target = full_data[[\"Cultivator\"]]\n",
    "atributes = full_data.drop(\"Cultivator\", axis=1) # drop labels for training set\n",
    "full_data.head()"
   ]
  },
  {
   "cell_type": "code",
   "execution_count": 16,
   "metadata": {},
   "outputs": [
    {
     "data": {
      "text/html": [
       "<div>\n",
       "<style scoped>\n",
       "    .dataframe tbody tr th:only-of-type {\n",
       "        vertical-align: middle;\n",
       "    }\n",
       "\n",
       "    .dataframe tbody tr th {\n",
       "        vertical-align: top;\n",
       "    }\n",
       "\n",
       "    .dataframe thead th {\n",
       "        text-align: right;\n",
       "    }\n",
       "</style>\n",
       "<table border=\"1\" class=\"dataframe\">\n",
       "  <thead>\n",
       "    <tr style=\"text-align: right;\">\n",
       "      <th></th>\n",
       "      <th>Cultivator</th>\n",
       "    </tr>\n",
       "  </thead>\n",
       "  <tbody>\n",
       "    <tr>\n",
       "      <th>0</th>\n",
       "      <td>1</td>\n",
       "    </tr>\n",
       "    <tr>\n",
       "      <th>1</th>\n",
       "      <td>1</td>\n",
       "    </tr>\n",
       "    <tr>\n",
       "      <th>2</th>\n",
       "      <td>1</td>\n",
       "    </tr>\n",
       "    <tr>\n",
       "      <th>3</th>\n",
       "      <td>1</td>\n",
       "    </tr>\n",
       "    <tr>\n",
       "      <th>4</th>\n",
       "      <td>3</td>\n",
       "    </tr>\n",
       "  </tbody>\n",
       "</table>\n",
       "</div>"
      ],
      "text/plain": [
       "   Cultivator\n",
       "0           1\n",
       "1           1\n",
       "2           1\n",
       "3           1\n",
       "4           3"
      ]
     },
     "execution_count": 16,
     "metadata": {},
     "output_type": "execute_result"
    }
   ],
   "source": [
    "target.head()"
   ]
  },
  {
   "cell_type": "code",
   "execution_count": 17,
   "metadata": {},
   "outputs": [],
   "source": [
    "from sklearn.preprocessing import OneHotEncoder\n",
    "cat_encoder = OneHotEncoder(categories='auto')\n",
    "target_hot = cat_encoder.fit_transform(target).toarray()"
   ]
  },
  {
   "cell_type": "code",
   "execution_count": 18,
   "metadata": {},
   "outputs": [
    {
     "name": "stdout",
     "output_type": "stream",
     "text": [
      "array([1, 1, 1, 1, 3, 3, 2, 3, 1, 1, 2, 2, 1, 1, 3, 2, 2, 2, 1, 1, 2, 3,\n",
      "       1, 3, 3, 1, 1, 2, 2, 1, 1, 1, 1, 1, 2, 3, 1, 2, 1, 2, 2, 2, 2, 2,\n",
      "       2, 2, 1, 1, 3, 1, 1, 3, 2, 2, 3, 2, 2, 2, 2, 1, 2, 2, 1, 1, 1, 1,\n",
      "       1, 2, 2, 2, 3, 3, 1, 1, 3, 2, 2, 2, 2, 3, 1, 3, 1, 3, 2, 3, 3, 2,\n",
      "       1, 1, 2, 2, 2, 1, 1, 1, 3, 2, 2, 2, 3, 2, 1, 2, 1, 2, 3, 1, 1, 2,\n",
      "       3, 3, 2, 2, 2, 3, 3, 3, 3, 2, 2, 3, 2, 3, 3, 1, 1, 3, 1, 2, 3, 3,\n",
      "       2, 3, 2, 2, 2, 3, 2, 1, 3, 3])\n"
     ]
    }
   ],
   "source": [
    "#target = np.array(full_data[\"Cultivator\"].copy(),dtype=int)\n",
    "target = np.array(target[\"Cultivator\"],dtype=int)\n",
    "pprint(target)"
   ]
  },
  {
   "cell_type": "code",
   "execution_count": 19,
   "metadata": {},
   "outputs": [
    {
     "data": {
      "image/png": "[encoded data removed]",
      "text/plain": [
       "<Figure size 1440x1080 with 16 Axes>"
      ]
     },
     "metadata": {
      "needs_background": "light"
     },
     "output_type": "display_data"
    }
   ],
   "source": [
    "atributes.hist(bins=10, figsize=(20,15))\n",
    "plt.show()"
   ]
  },
  {
   "cell_type": "code",
   "execution_count": 20,
   "metadata": {},
   "outputs": [
    {
     "name": "stdout",
     "output_type": "stream",
     "text": [
      "['Alchol',\n",
      " 'Malic_Acid',\n",
      " 'Ash',\n",
      " 'Alcalinity_of_Ash',\n",
      " 'Magnesium',\n",
      " 'Total_phenols',\n",
      " 'Falvanoids',\n",
      " 'Nonflavanoid_phenols',\n",
      " 'Proanthocyanins',\n",
      " 'Color_intensity',\n",
      " 'Hue',\n",
      " 'OD280',\n",
      " 'Proline']\n"
     ]
    }
   ],
   "source": [
    "from sklearn.pipeline import Pipeline\n",
    "from sklearn.preprocessing import MinMaxScaler\n",
    "from sklearn.impute import SimpleImputer \n",
    "from sklearn.compose import ColumnTransformer\n",
    "from sklearn.preprocessing import OneHotEncoder\n",
    "\n",
    "attribs_labels = list(atributes)\n",
    "pprint(attribs_labels)\n",
    "\n",
    "# Replace any missing values with the median value\n",
    "# Nomalize all the data\n",
    "\n",
    "num_pipeline = Pipeline([\n",
    "        ('imputer', SimpleImputer(strategy=\"median\")),\n",
    "        ('nomalize', MinMaxScaler()),\n",
    "    ])\n",
    "\n",
    "\n",
    "full_pipeline = ColumnTransformer([\n",
    "        (\"num\", num_pipeline, attribs_labels),\n",
    "#        (\"cat\", OneHotEncoder(), cat_attribs),\n",
    "    ])\n",
    "\n"
   ]
  },
  {
   "cell_type": "code",
   "execution_count": 21,
   "metadata": {},
   "outputs": [],
   "source": [
    "attribs = full_pipeline.fit_transform(atributes)"
   ]
  },
  {
   "cell_type": "code",
   "execution_count": 22,
   "metadata": {},
   "outputs": [
    {
     "data": {
      "text/plain": [
       "array([[0.59210526, 0.17786561, 0.79569892, ..., 0.49593496, 0.56981132,\n",
       "        0.48666128],\n",
       "       [0.71052632, 0.15019763, 0.72043011, ..., 0.57723577, 0.54339623,\n",
       "        0.81406629],\n",
       "       [0.62105263, 0.20355731, 0.67741935, ..., 0.35772358, 0.73584906,\n",
       "        0.74130962],\n",
       "       ...,\n",
       "       [0.65263158, 0.20948617, 0.69354839, ..., 0.50406504, 0.60377358,\n",
       "        0.66046888],\n",
       "       [0.50789474, 0.53557312, 0.53225806, ..., 0.16260163, 0.18113208,\n",
       "        0.32093775],\n",
       "       [0.48684211, 0.44466403, 0.55913978, ..., 0.21138211, 0.05660377,\n",
       "        0.20371867]])"
      ]
     },
     "execution_count": 22,
     "metadata": {},
     "output_type": "execute_result"
    }
   ],
   "source": [
    "attribs"
   ]
  },
  {
   "cell_type": "code",
   "execution_count": 23,
   "metadata": {},
   "outputs": [],
   "source": [
    "dataset = {\"attribs_labels\":attribs_labels,\"attribs\":attribs.tolist(),\"target\":target.tolist(),\"target_hot\":target_hot.tolist()}"
   ]
  },
  {
   "cell_type": "code",
   "execution_count": 24,
   "metadata": {},
   "outputs": [],
   "source": [
    "with open(\"../datasets/wine/wine_train.json\",\"w\") as jout:\n",
    "#with open(\"datasets/wine/wine_test_7.json\",\"w\") as jout:\n",
    "    json.dump(dataset,jout)"
   ]
  },
  {
   "cell_type": "code",
   "execution_count": 25,
   "metadata": {},
   "outputs": [
    {
     "name": "stdout",
     "output_type": "stream",
     "text": [
      "[0.5921052631578947, 0.17786561264822134, 0.7956989247311825, 0.25257731958762886, 0.4347826086956522, 0.5586206896551725, 0.6882352941176471, 0.42000000000000004, 0.2974683544303797, 0.2832764505119454, 0.4959349593495936, 0.5698113207547169, 0.48666127728375097] 1 [1.0, 0.0, 0.0]\n"
     ]
    }
   ],
   "source": [
    "print(dataset[\"attribs\"][0],dataset[\"target\"][0],dataset[\"target_hot\"][0])"
   ]
  },
  {
   "cell_type": "code",
   "execution_count": null,
   "metadata": {},
   "outputs": [],
   "source": []
  }
 ],
 "metadata": {
  "kernelspec": {
   "display_name": "Python 3",
   "language": "python",
   "name": "python3"
  },
  "language_info": {
   "codemirror_mode": {
    "name": "ipython",
    "version": 3
   },
   "file_extension": ".py",
   "mimetype": "text/x-python",
   "name": "python",
   "nbconvert_exporter": "python",
   "pygments_lexer": "ipython3",
   "version": "3.6.7"
  }
 },
 "nbformat": 4,
 "nbformat_minor": 2
}
