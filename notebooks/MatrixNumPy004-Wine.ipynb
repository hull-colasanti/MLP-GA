{
 "cells": [
  {
   "cell_type": "code",
   "execution_count": 1,
   "metadata": {},
   "outputs": [],
   "source": [
    "import numpy as np\n",
    "import json\n",
    "import matplotlib.pyplot as plt\n",
    "from sklearn.model_selection import train_test_split"
   ]
  },
  {
   "cell_type": "code",
   "execution_count": 25,
   "metadata": {},
   "outputs": [
    {
     "name": "stdout",
     "output_type": "stream",
     "text": [
      "13\n",
      "3\n"
     ]
    }
   ],
   "source": [
    "with open(\"../datasets/wine/wine_train.json\") as json_data:\n",
    "    dataset = json.load(json_data)\n",
    "\n",
    "X = np.asarray(dataset[\"attribs\"])\n",
    "y = np.asarray(dataset[\"target_hot\"])\n",
    "n_inputs = len(X[0]) \n",
    "n_outputs = len(y[0]) \n",
    "print(n_inputs)\n",
    "print(n_outputs)\n",
    "hidden_layer_neurons = 13\n"
   ]
  },
  {
   "cell_type": "code",
   "execution_count": 26,
   "metadata": {},
   "outputs": [
    {
     "name": "stdout",
     "output_type": "stream",
     "text": [
      "0.029334317843223757\n"
     ]
    },
    {
     "data": {
      "text/plain": [
       "[<matplotlib.lines.Line2D at 0x7f166c278fd0>]"
      ]
     },
     "execution_count": 26,
     "metadata": {},
     "output_type": "execute_result"
    },
    {
     "data": {
      "image/png": "[encoded data removed]",
      "text/plain": [
       "<Figure size 432x288 with 1 Axes>"
      ]
     },
     "metadata": {
      "needs_background": "light"
     },
     "output_type": "display_data"
    }
   ],
   "source": [
    "w1 = 2*np.random.random((n_inputs, hidden_layer_neurons)) - 1\n",
    "wo = 2*np.random.random((hidden_layer_neurons,n_outputs)) - 1\n",
    "b1 = 2*np.random.random((hidden_layer_neurons)) - 1\n",
    "b2 = 2*np.random.random((n_outputs)) - 1\n",
    "\n",
    "ers=[]\n",
    "for _ in range (2000):\n",
    "    l1 = 1/(1 + np.exp(-(np.dot(X,w1)+b1)))\n",
    "    ot = 1/(1 + np.exp(-(np.dot(l1,wo)+b2)))\n",
    "    d_o1 = (y - ot)*(ot * (1-ot))\n",
    "    d_l1 = np.dot(d_o1,wo.T) * (l1*(1-l1))\n",
    "    wo += np.dot(l1.T,d_o1) * 0.01\n",
    "    b2 += np.sum(d_o1, axis = 0) *0.01\n",
    "    w1 += np.dot(X.T,d_l1) * 0.01\n",
    "    b1 += np.sum(d_l1, axis = 0) *0.01\n",
    "    ers.append((abs(y-ot)).mean())\n",
    "print(ers[-1])\n",
    "plt.plot(ers)"
   ]
  },
  {
   "cell_type": "code",
   "execution_count": 27,
   "metadata": {},
   "outputs": [],
   "source": [
    "with open(\"../datasets/wine/wine_test.json\") as json_data:\n",
    "    dataset = json.load(json_data)\n",
    "\n",
    "X_test = np.asarray(dataset[\"attribs\"])\n",
    "y_test = np.asarray(dataset[\"target_hot\"])"
   ]
  },
  {
   "cell_type": "code",
   "execution_count": 28,
   "metadata": {},
   "outputs": [
    {
     "name": "stdout",
     "output_type": "stream",
     "text": [
      "0.05210835502005779\n",
      "[ True False  True  True  True  True  True  True  True  True  True  True\n",
      "  True  True  True  True  True  True  True False  True  True  True  True\n",
      "  True  True  True  True  True  True  True  True  True  True  True  True]\n"
     ]
    }
   ],
   "source": [
    "l1 = 1/(1 + np.exp(-(np.dot(X_test,w1)+b1)))\n",
    "ot = 1/(1 + np.exp(-(np.dot(l1,wo)+b2)))\n",
    "print(((abs(y_test-ot)).mean()))\n",
    "y_pred = np.argmax(ot,axis=1)\n",
    "y_true = np.argmax(y_test, axis=1)\n",
    "print(y_true==y_pred)"
   ]
  },
  {
   "cell_type": "code",
   "execution_count": 29,
   "metadata": {},
   "outputs": [
    {
     "data": {
      "text/plain": [
       "array([[ 0.59033637, -0.99658033,  2.1058619 ,  0.00523377, -1.11280672,\n",
       "        -1.26334521, -0.02749259, -0.74682529,  0.13358962, -1.13524077,\n",
       "        -0.09093054, -0.52853801,  2.27755371],\n",
       "       [-0.64021979,  0.56950135,  0.38895109, -0.46108081,  0.30996207,\n",
       "        -0.06727335,  1.43925832, -0.26580728, -0.78100664, -0.84625923,\n",
       "        -1.07441297, -1.16207066,  1.4533879 ],\n",
       "       [ 0.92913181,  0.33022592,  1.8301767 ,  1.00426858, -1.00644122,\n",
       "        -0.2840697 ,  0.67222361,  0.88694178, -0.74551849, -2.35213369,\n",
       "        -0.39463816, -0.47780664,  2.70586683],\n",
       "       [-1.36317583, -0.0754584 , -1.76843831, -0.9574656 , -0.30292322,\n",
       "         2.38799536,  1.70642135,  0.56093726,  0.57084871,  0.37716288,\n",
       "         0.27806969,  0.42984185, -1.44128573],\n",
       "       [-0.1364181 , -0.65938481, -0.10149755, -0.30835626,  0.28278868,\n",
       "         0.35549305,  0.21507893,  0.43562794, -0.80928596, -0.35208985,\n",
       "        -0.81322067,  0.15069337,  0.57749595],\n",
       "       [-0.56812448,  0.68647778, -0.10733533,  0.83251488,  0.48385783,\n",
       "        -0.77785901, -0.21269426, -0.96537823, -0.21348619,  0.55664355,\n",
       "         0.66672873,  0.30018683, -0.0724678 ],\n",
       "       [ 1.60484173,  0.91514139,  0.28106503,  0.6906203 ,  0.46231391,\n",
       "        -1.36725046, -3.27960543, -1.6465654 , -0.61835001, -0.04000184,\n",
       "         1.54332606, -0.60085699, -0.3323358 ],\n",
       "       [-0.31450334, -0.27209626,  0.07688555, -0.42573805, -0.04624339,\n",
       "        -0.48627265,  0.21379983,  0.49319137, -0.21505714,  0.8490027 ,\n",
       "         0.159245  ,  0.89074017, -0.65725067],\n",
       "       [ 0.07893073, -0.71922331, -1.54419863,  0.38884564,  0.04567438,\n",
       "        -0.14392249, -1.54927446, -0.79045947, -0.68030418,  0.56630055,\n",
       "         0.8621608 , -0.17359086, -1.25623786],\n",
       "       [-0.61297682, -0.64970618,  1.42866419, -0.95077357,  0.69342153,\n",
       "         0.14489415,  3.05174997,  0.96819101,  0.63766119, -0.92838229,\n",
       "        -0.58761439, -1.70568266,  3.4477598 ],\n",
       "       [-0.64138717,  0.96527553, -0.84079614,  0.55095718, -0.58586421,\n",
       "        -0.06676541, -1.83269595, -0.36182643,  1.01907972,  1.3415657 ,\n",
       "         0.83796742,  1.16713934, -2.30748876],\n",
       "       [ 0.60252688, -0.96873752, -0.13645537,  0.8299468 , -0.33892236,\n",
       "        -1.3171732 , -1.45940616, -1.6949528 , -0.23759624, -0.33950779,\n",
       "         1.23837143, -0.68179408, -0.05268944],\n",
       "       [ 1.89842127, -0.20028487,  2.5558054 , -0.01630618, -0.48950492,\n",
       "        -1.3230947 , -0.51759756,  0.06821121, -0.30085529, -0.96331138,\n",
       "         0.48832376, -1.07805025,  3.67779119]])"
      ]
     },
     "execution_count": 29,
     "metadata": {},
     "output_type": "execute_result"
    }
   ],
   "source": [
    "w1"
   ]
  },
  {
   "cell_type": "code",
   "execution_count": 30,
   "metadata": {},
   "outputs": [
    {
     "data": {
      "text/plain": [
       "array([[ 2.04346505, -1.53420439, -2.16375411],\n",
       "       [-0.19094174,  1.55947601, -0.22588634],\n",
       "       [ 3.23067591, -2.97779848,  0.57929159],\n",
       "       [ 0.06030084, -0.34995449, -2.23881624],\n",
       "       [-1.48713363,  0.94542554,  0.29194468],\n",
       "       [-3.84733826,  1.83463582,  1.49446085],\n",
       "       [-3.45379216, -3.06653575,  3.95934635],\n",
       "       [-2.12642137, -0.60000805,  1.60907807],\n",
       "       [-1.79692729,  1.43297414,  0.74616619],\n",
       "       [-2.41916267,  2.90636883, -1.6518243 ],\n",
       "       [ 0.3646511 ,  0.55767668, -2.74481314],\n",
       "       [-1.84992108,  2.52290088, -0.71235147],\n",
       "       [ 3.3309762 , -5.94605203,  3.26459195]])"
      ]
     },
     "execution_count": 30,
     "metadata": {},
     "output_type": "execute_result"
    }
   ],
   "source": [
    "wo"
   ]
  },
  {
   "cell_type": "code",
   "execution_count": 31,
   "metadata": {},
   "outputs": [
    {
     "data": {
      "text/plain": [
       "array([-0.95359275, -0.50865558, -1.26767131, -0.26937253, -0.02750119,\n",
       "        2.25183178, -1.00689256,  0.24123896,  0.3658249 ,  1.3047948 ,\n",
       "       -0.33289974,  0.58619817, -2.73371217])"
      ]
     },
     "execution_count": 31,
     "metadata": {},
     "output_type": "execute_result"
    }
   ],
   "source": [
    "b1"
   ]
  },
  {
   "cell_type": "code",
   "execution_count": 32,
   "metadata": {},
   "outputs": [
    {
     "data": {
      "text/plain": [
       "array([-0.444496  ,  1.63442238, -2.05987337])"
      ]
     },
     "execution_count": 32,
     "metadata": {},
     "output_type": "execute_result"
    }
   ],
   "source": [
    "b2"
   ]
  },
  {
   "cell_type": "code",
   "execution_count": null,
   "metadata": {},
   "outputs": [],
   "source": []
  }
 ],
 "metadata": {
  "kernelspec": {
   "display_name": "Python 3",
   "language": "python",
   "name": "python3"
  },
  "language_info": {
   "codemirror_mode": {
    "name": "ipython",
    "version": 3
   },
   "file_extension": ".py",
   "mimetype": "text/x-python",
   "name": "python",
   "nbconvert_exporter": "python",
   "pygments_lexer": "ipython3",
   "version": "3.6.7"
  }
 },
 "nbformat": 4,
 "nbformat_minor": 2
}
